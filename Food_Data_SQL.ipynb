{
 "cells": [
  {
   "cell_type": "markdown",
   "id": "76618b8e",
   "metadata": {},
   "source": [
    "# **Food Data SQL**"
   ]
  },
  {
   "cell_type": "markdown",
   "id": "5b3615fe",
   "metadata": {},
   "source": [
    "# **Libraries Used:**"
   ]
  },
  {
   "cell_type": "code",
   "execution_count": 1,
   "id": "b7fa70b7",
   "metadata": {},
   "outputs": [],
   "source": [
    "import pandas as pd\n",
    "import sqlite3"
   ]
  },
  {
   "cell_type": "markdown",
   "id": "2f8c0772",
   "metadata": {},
   "source": [
    "# **Connect DataBase**"
   ]
  },
  {
   "cell_type": "code",
   "execution_count": 2,
   "id": "6abb9070",
   "metadata": {},
   "outputs": [
    {
     "data": {
      "text/plain": [
       "<sqlite3.Cursor at 0x21b885590c0>"
      ]
     },
     "execution_count": 2,
     "metadata": {},
     "output_type": "execute_result"
    }
   ],
   "source": [
    "conn = sqlite3.connect(\"food_wastage.db\")\n",
    "cursor = conn.cursor()\n",
    "cursor.execute(\"PRAGMA foreign_keys = ON;\")"
   ]
  },
  {
   "cell_type": "markdown",
   "id": "9b190ad6",
   "metadata": {},
   "source": [
    "# **Create Tables:**"
   ]
  },
  {
   "cell_type": "markdown",
   "id": "84025f56",
   "metadata": {},
   "source": [
    "Providers Table:"
   ]
  },
  {
   "cell_type": "code",
   "execution_count": 3,
   "id": "6bf59374",
   "metadata": {},
   "outputs": [
    {
     "data": {
      "text/plain": [
       "<sqlite3.Cursor at 0x21b885590c0>"
      ]
     },
     "execution_count": 3,
     "metadata": {},
     "output_type": "execute_result"
    }
   ],
   "source": [
    "cursor.execute(\"\"\"\n",
    "CREATE TABLE providers (\n",
    "    Provider_ID INTEGER PRIMARY KEY,\n",
    "    Name TEXT NOT NULL,\n",
    "    Type TEXT,\n",
    "    Address TEXT,\n",
    "    City TEXT,\n",
    "    Contact TEXT\n",
    ");\n",
    "\"\"\")"
   ]
  },
  {
   "cell_type": "markdown",
   "id": "8ae9f0aa",
   "metadata": {},
   "source": [
    "Receivers Table:"
   ]
  },
  {
   "cell_type": "code",
   "execution_count": 4,
   "id": "1cf88bfd",
   "metadata": {},
   "outputs": [
    {
     "data": {
      "text/plain": [
       "<sqlite3.Cursor at 0x21b885590c0>"
      ]
     },
     "execution_count": 4,
     "metadata": {},
     "output_type": "execute_result"
    }
   ],
   "source": [
    "cursor.execute(\"\"\"\n",
    "CREATE TABLE receivers (\n",
    "    Receiver_ID INTEGER PRIMARY KEY,\n",
    "    Name TEXT NOT NULL,\n",
    "    Type TEXT,\n",
    "    City TEXT,\n",
    "    Contact TEXT\n",
    ");\n",
    "\"\"\")"
   ]
  },
  {
   "cell_type": "markdown",
   "id": "c7354131",
   "metadata": {},
   "source": [
    "Listings Table:"
   ]
  },
  {
   "cell_type": "code",
   "execution_count": 5,
   "id": "6713ea06",
   "metadata": {},
   "outputs": [
    {
     "data": {
      "text/plain": [
       "<sqlite3.Cursor at 0x21b885590c0>"
      ]
     },
     "execution_count": 5,
     "metadata": {},
     "output_type": "execute_result"
    }
   ],
   "source": [
    "cursor.execute(\"\"\"\n",
    "CREATE TABLE food_listings (\n",
    "    Food_ID INTEGER PRIMARY KEY,\n",
    "    Food_Name TEXT NOT NULL,\n",
    "    Quantity INTEGER,\n",
    "    Expiry_Date TEXT,\n",
    "    Provider_ID INTEGER,\n",
    "    Provider_Type TEXT,\n",
    "    Location TEXT,\n",
    "    Food_Type TEXT,\n",
    "    Meal_Type TEXT,\n",
    "    FOREIGN KEY (Provider_ID) REFERENCES providers(Provider_ID) ON DELETE CASCADE\n",
    ");\n",
    "\"\"\")"
   ]
  },
  {
   "cell_type": "markdown",
   "id": "4e5b7c5c",
   "metadata": {},
   "source": [
    "Claims Table:"
   ]
  },
  {
   "cell_type": "code",
   "execution_count": 6,
   "id": "587e46a4",
   "metadata": {},
   "outputs": [
    {
     "data": {
      "text/plain": [
       "<sqlite3.Cursor at 0x21b885590c0>"
      ]
     },
     "execution_count": 6,
     "metadata": {},
     "output_type": "execute_result"
    }
   ],
   "source": [
    "cursor.execute(\"\"\"\n",
    "CREATE TABLE claims (\n",
    "    Claim_ID INTEGER PRIMARY KEY,\n",
    "    Food_ID INTEGER,\n",
    "    Receiver_ID INTEGER,\n",
    "    Status TEXT,\n",
    "    Timestamp TEXT,\n",
    "    FOREIGN KEY (Food_ID) REFERENCES food_listings(Food_ID) ON DELETE CASCADE,\n",
    "    FOREIGN KEY (Receiver_ID) REFERENCES receivers(Receiver_ID) ON DELETE CASCADE\n",
    ");\n",
    "\"\"\")"
   ]
  },
  {
   "cell_type": "markdown",
   "id": "54943f0a",
   "metadata": {},
   "source": [
    "Commit:"
   ]
  },
  {
   "cell_type": "code",
   "execution_count": 7,
   "id": "397d3239",
   "metadata": {},
   "outputs": [],
   "source": [
    "conn.commit()"
   ]
  },
  {
   "cell_type": "markdown",
   "id": "734c94f9",
   "metadata": {},
   "source": [
    "# **Insert Data:**"
   ]
  },
  {
   "cell_type": "markdown",
   "id": "c88f8aaa",
   "metadata": {},
   "source": [
    "Load Data:"
   ]
  },
  {
   "cell_type": "code",
   "execution_count": 8,
   "id": "e356023d",
   "metadata": {},
   "outputs": [],
   "source": [
    "providers_df = pd.read_csv(\"data/providers_data.csv\")\n",
    "receivers_df = pd.read_csv(\"data/receivers_data.csv\")\n",
    "food_df = pd.read_csv(\"data/food_listings_data.csv\")\n",
    "claims_df = pd.read_csv(\"data/claims_data.csv\")"
   ]
  },
  {
   "cell_type": "markdown",
   "id": "939b2d93",
   "metadata": {},
   "source": [
    "Insert Data into Tables:"
   ]
  },
  {
   "cell_type": "code",
   "execution_count": 9,
   "id": "76364ba1",
   "metadata": {},
   "outputs": [
    {
     "data": {
      "text/plain": [
       "1000"
      ]
     },
     "execution_count": 9,
     "metadata": {},
     "output_type": "execute_result"
    }
   ],
   "source": [
    "providers_df.to_sql(\"providers\", conn, if_exists=\"append\", index=False)\n",
    "receivers_df.to_sql(\"receivers\", conn, if_exists=\"append\", index=False)\n",
    "food_df.to_sql(\"food_listings\", conn, if_exists=\"append\", index=False)\n",
    "claims_df.to_sql(\"claims\", conn, if_exists=\"append\", index=False)"
   ]
  },
  {
   "cell_type": "markdown",
   "id": "e4162b49",
   "metadata": {},
   "source": [
    "Commit:"
   ]
  },
  {
   "cell_type": "code",
   "execution_count": 10,
   "id": "f84ffd7f",
   "metadata": {},
   "outputs": [],
   "source": [
    "conn.commit()"
   ]
  },
  {
   "cell_type": "markdown",
   "id": "e57f70ca",
   "metadata": {},
   "source": [
    "# **Queries:**"
   ]
  },
  {
   "cell_type": "markdown",
   "id": "cf977072",
   "metadata": {},
   "source": [
    "1. How many food providers and receivers are there in each city?"
   ]
  },
  {
   "cell_type": "code",
   "execution_count": null,
   "id": "926827f1",
   "metadata": {},
   "outputs": [
    {
     "data": {
      "application/vnd.microsoft.datawrangler.viewer.v0+json": {
       "columns": [
        {
         "name": "index",
         "rawType": "int64",
         "type": "integer"
        },
        {
         "name": "City",
         "rawType": "object",
         "type": "string"
        },
        {
         "name": "Total_Providers",
         "rawType": "int64",
         "type": "integer"
        },
        {
         "name": "Total_Receivers",
         "rawType": "int64",
         "type": "integer"
        }
       ],
       "ref": "ec57e9a8-f104-4ee3-80cf-6416e0740bfa",
       "rows": [
        [
         "0",
         "Adambury",
         "1",
         "0"
        ],
        [
         "1",
         "Adamsview",
         "1",
         "0"
        ],
        [
         "2",
         "Adamsville",
         "1",
         "0"
        ],
        [
         "3",
         "Aguirreville",
         "1",
         "0"
        ],
        [
         "4",
         "Alexanderchester",
         "1",
         "0"
        ],
        [
         "5",
         "Alexanderstad",
         "1",
         "0"
        ],
        [
         "6",
         "Allenborough",
         "1",
         "1"
        ],
        [
         "7",
         "Allenton",
         "1",
         "0"
        ],
        [
         "8",
         "Amandaborough",
         "1",
         "0"
        ],
        [
         "9",
         "Amandashire",
         "1",
         "0"
        ],
        [
         "10",
         "Amberton",
         "1",
         "0"
        ],
        [
         "11",
         "Ambertown",
         "1",
         "0"
        ],
        [
         "12",
         "Amyport",
         "1",
         "0"
        ],
        [
         "13",
         "Andersonmouth",
         "1",
         "0"
        ],
        [
         "14",
         "Andersonville",
         "1",
         "0"
        ],
        [
         "15",
         "Andreaborough",
         "1",
         "0"
        ],
        [
         "16",
         "Andrewsmouth",
         "1",
         "0"
        ],
        [
         "17",
         "Andrewstad",
         "1",
         "0"
        ],
        [
         "18",
         "Anitashire",
         "1",
         "0"
        ],
        [
         "19",
         "Annahaven",
         "1",
         "0"
        ],
        [
         "20",
         "Annetteburgh",
         "1",
         "0"
        ],
        [
         "21",
         "Anneville",
         "1",
         "0"
        ],
        [
         "22",
         "Anthonyborough",
         "1",
         "0"
        ],
        [
         "23",
         "Anthonychester",
         "1",
         "0"
        ],
        [
         "24",
         "Anthonyfort",
         "1",
         "0"
        ],
        [
         "25",
         "Anthonyhaven",
         "1",
         "0"
        ],
        [
         "26",
         "Anthonyshire",
         "1",
         "0"
        ],
        [
         "27",
         "Anthonyton",
         "1",
         "0"
        ],
        [
         "28",
         "Aprilberg",
         "1",
         "0"
        ],
        [
         "29",
         "Arnoldmouth",
         "1",
         "0"
        ],
        [
         "30",
         "Ashleyhaven",
         "1",
         "0"
        ],
        [
         "31",
         "Ashleyton",
         "1",
         "0"
        ],
        [
         "32",
         "Bairdfort",
         "1",
         "0"
        ],
        [
         "33",
         "Baldwinshire",
         "1",
         "0"
        ],
        [
         "34",
         "Barkerborough",
         "1",
         "0"
        ],
        [
         "35",
         "Barryside",
         "1",
         "0"
        ],
        [
         "36",
         "Bartonborough",
         "1",
         "0"
        ],
        [
         "37",
         "Basstown",
         "1",
         "0"
        ],
        [
         "38",
         "Batesstad",
         "1",
         "0"
        ],
        [
         "39",
         "Beasleyhaven",
         "1",
         "0"
        ],
        [
         "40",
         "Belindaville",
         "1",
         "0"
        ],
        [
         "41",
         "Bellport",
         "1",
         "0"
        ],
        [
         "42",
         "Benjaminstad",
         "1",
         "0"
        ],
        [
         "43",
         "Bentleyburgh",
         "1",
         "0"
        ],
        [
         "44",
         "Bentonfurt",
         "1",
         "0"
        ],
        [
         "45",
         "Blaketown",
         "1",
         "0"
        ],
        [
         "46",
         "Bonillahaven",
         "1",
         "0"
        ],
        [
         "47",
         "Boylechester",
         "1",
         "0"
        ],
        [
         "48",
         "Bradleyborough",
         "1",
         "0"
        ],
        [
         "49",
         "Bradleyport",
         "2",
         "0"
        ]
       ],
       "shape": {
        "columns": 3,
        "rows": 963
       }
      },
      "text/html": [
       "<div>\n",
       "<style scoped>\n",
       "    .dataframe tbody tr th:only-of-type {\n",
       "        vertical-align: middle;\n",
       "    }\n",
       "\n",
       "    .dataframe tbody tr th {\n",
       "        vertical-align: top;\n",
       "    }\n",
       "\n",
       "    .dataframe thead th {\n",
       "        text-align: right;\n",
       "    }\n",
       "</style>\n",
       "<table border=\"1\" class=\"dataframe\">\n",
       "  <thead>\n",
       "    <tr style=\"text-align: right;\">\n",
       "      <th></th>\n",
       "      <th>City</th>\n",
       "      <th>Total_Providers</th>\n",
       "      <th>Total_Receivers</th>\n",
       "    </tr>\n",
       "  </thead>\n",
       "  <tbody>\n",
       "    <tr>\n",
       "      <th>0</th>\n",
       "      <td>Adambury</td>\n",
       "      <td>1</td>\n",
       "      <td>0</td>\n",
       "    </tr>\n",
       "    <tr>\n",
       "      <th>1</th>\n",
       "      <td>Adamsview</td>\n",
       "      <td>1</td>\n",
       "      <td>0</td>\n",
       "    </tr>\n",
       "    <tr>\n",
       "      <th>2</th>\n",
       "      <td>Adamsville</td>\n",
       "      <td>1</td>\n",
       "      <td>0</td>\n",
       "    </tr>\n",
       "    <tr>\n",
       "      <th>3</th>\n",
       "      <td>Aguirreville</td>\n",
       "      <td>1</td>\n",
       "      <td>0</td>\n",
       "    </tr>\n",
       "    <tr>\n",
       "      <th>4</th>\n",
       "      <td>Alexanderchester</td>\n",
       "      <td>1</td>\n",
       "      <td>0</td>\n",
       "    </tr>\n",
       "    <tr>\n",
       "      <th>...</th>\n",
       "      <td>...</td>\n",
       "      <td>...</td>\n",
       "      <td>...</td>\n",
       "    </tr>\n",
       "    <tr>\n",
       "      <th>958</th>\n",
       "      <td>Wrightville</td>\n",
       "      <td>1</td>\n",
       "      <td>0</td>\n",
       "    </tr>\n",
       "    <tr>\n",
       "      <th>959</th>\n",
       "      <td>Yatesside</td>\n",
       "      <td>1</td>\n",
       "      <td>0</td>\n",
       "    </tr>\n",
       "    <tr>\n",
       "      <th>960</th>\n",
       "      <td>Youngchester</td>\n",
       "      <td>1</td>\n",
       "      <td>0</td>\n",
       "    </tr>\n",
       "    <tr>\n",
       "      <th>961</th>\n",
       "      <td>Zimmermanton</td>\n",
       "      <td>1</td>\n",
       "      <td>0</td>\n",
       "    </tr>\n",
       "    <tr>\n",
       "      <th>962</th>\n",
       "      <td>Zimmermanville</td>\n",
       "      <td>1</td>\n",
       "      <td>0</td>\n",
       "    </tr>\n",
       "  </tbody>\n",
       "</table>\n",
       "<p>963 rows × 3 columns</p>\n",
       "</div>"
      ],
      "text/plain": [
       "                 City  Total_Providers  Total_Receivers\n",
       "0            Adambury                1                0\n",
       "1           Adamsview                1                0\n",
       "2          Adamsville                1                0\n",
       "3        Aguirreville                1                0\n",
       "4    Alexanderchester                1                0\n",
       "..                ...              ...              ...\n",
       "958       Wrightville                1                0\n",
       "959         Yatesside                1                0\n",
       "960      Youngchester                1                0\n",
       "961      Zimmermanton                1                0\n",
       "962    Zimmermanville                1                0\n",
       "\n",
       "[963 rows x 3 columns]"
      ]
     },
     "execution_count": 17,
     "metadata": {},
     "output_type": "execute_result"
    }
   ],
   "source": [
    "query1 = \"\"\"\n",
    "SELECT p.City,\n",
    "       COUNT(DISTINCT p.Provider_ID) AS Total_Providers,\n",
    "       COUNT(DISTINCT r.Receiver_ID) AS Total_Receivers\n",
    "FROM providers p\n",
    "LEFT JOIN receivers r\n",
    "ON p.City = r.City\n",
    "GROUP BY p.City;\n",
    "\"\"\"\n",
    "df1 = pd.read_sql_query(query1, conn)\n",
    "df1"
   ]
  },
  {
   "cell_type": "markdown",
   "id": "ba98abc5",
   "metadata": {},
   "source": [
    "2. Which type of food provider contributes the most food?"
   ]
  },
  {
   "cell_type": "code",
   "execution_count": 19,
   "id": "a72e2779",
   "metadata": {},
   "outputs": [
    {
     "data": {
      "application/vnd.microsoft.datawrangler.viewer.v0+json": {
       "columns": [
        {
         "name": "index",
         "rawType": "int64",
         "type": "integer"
        },
        {
         "name": "Provider_Type",
         "rawType": "object",
         "type": "string"
        },
        {
         "name": "Total_Quantity",
         "rawType": "int64",
         "type": "integer"
        }
       ],
       "ref": "ae54aaa7-b9ad-4492-b244-ee6ae7caf039",
       "rows": [
        [
         "0",
         "Restaurant",
         "6923"
        ]
       ],
       "shape": {
        "columns": 2,
        "rows": 1
       }
      },
      "text/html": [
       "<div>\n",
       "<style scoped>\n",
       "    .dataframe tbody tr th:only-of-type {\n",
       "        vertical-align: middle;\n",
       "    }\n",
       "\n",
       "    .dataframe tbody tr th {\n",
       "        vertical-align: top;\n",
       "    }\n",
       "\n",
       "    .dataframe thead th {\n",
       "        text-align: right;\n",
       "    }\n",
       "</style>\n",
       "<table border=\"1\" class=\"dataframe\">\n",
       "  <thead>\n",
       "    <tr style=\"text-align: right;\">\n",
       "      <th></th>\n",
       "      <th>Provider_Type</th>\n",
       "      <th>Total_Quantity</th>\n",
       "    </tr>\n",
       "  </thead>\n",
       "  <tbody>\n",
       "    <tr>\n",
       "      <th>0</th>\n",
       "      <td>Restaurant</td>\n",
       "      <td>6923</td>\n",
       "    </tr>\n",
       "  </tbody>\n",
       "</table>\n",
       "</div>"
      ],
      "text/plain": [
       "  Provider_Type  Total_Quantity\n",
       "0    Restaurant            6923"
      ]
     },
     "execution_count": 19,
     "metadata": {},
     "output_type": "execute_result"
    }
   ],
   "source": [
    "query2 = \"\"\"\n",
    "SELECT Provider_Type,\n",
    "       SUM(Quantity) AS Total_Quantity\n",
    "FROM food_listings\n",
    "GROUP BY Provider_Type\n",
    "ORDER BY Total_Quantity DESC\n",
    "LIMIT 1;\n",
    "\"\"\"\n",
    "df2 = pd.read_sql_query(query2, conn)\n",
    "df2"
   ]
  },
  {
   "cell_type": "markdown",
   "id": "6aa0a8c0",
   "metadata": {},
   "source": [
    "3. Contact information of food providers in a specific city (Example: Mumbai)"
   ]
  },
  {
   "cell_type": "code",
   "execution_count": null,
   "id": "40cfa171",
   "metadata": {},
   "outputs": [
    {
     "data": {
      "application/vnd.microsoft.datawrangler.viewer.v0+json": {
       "columns": [
        {
         "name": "index",
         "rawType": "int64",
         "type": "integer"
        },
        {
         "name": "Name",
         "rawType": "object",
         "type": "string"
        },
        {
         "name": "Type",
         "rawType": "object",
         "type": "string"
        },
        {
         "name": "Contact",
         "rawType": "object",
         "type": "string"
        }
       ],
       "ref": "50acc5b6-26b5-4b91-b8ab-da5a982308d5",
       "rows": [
        [
         "0",
         "Cannon-Garcia",
         "Restaurant",
         "9421508200"
        ]
       ],
       "shape": {
        "columns": 3,
        "rows": 1
       }
      },
      "text/html": [
       "<div>\n",
       "<style scoped>\n",
       "    .dataframe tbody tr th:only-of-type {\n",
       "        vertical-align: middle;\n",
       "    }\n",
       "\n",
       "    .dataframe tbody tr th {\n",
       "        vertical-align: top;\n",
       "    }\n",
       "\n",
       "    .dataframe thead th {\n",
       "        text-align: right;\n",
       "    }\n",
       "</style>\n",
       "<table border=\"1\" class=\"dataframe\">\n",
       "  <thead>\n",
       "    <tr style=\"text-align: right;\">\n",
       "      <th></th>\n",
       "      <th>Name</th>\n",
       "      <th>Type</th>\n",
       "      <th>Contact</th>\n",
       "    </tr>\n",
       "  </thead>\n",
       "  <tbody>\n",
       "    <tr>\n",
       "      <th>0</th>\n",
       "      <td>Cannon-Garcia</td>\n",
       "      <td>Restaurant</td>\n",
       "      <td>9421508200</td>\n",
       "    </tr>\n",
       "  </tbody>\n",
       "</table>\n",
       "</div>"
      ],
      "text/plain": [
       "            Name        Type     Contact\n",
       "0  Cannon-Garcia  Restaurant  9421508200"
      ]
     },
     "execution_count": 22,
     "metadata": {},
     "output_type": "execute_result"
    }
   ],
   "source": [
    "query3 = \"\"\"\n",
    "SELECT Name, Type, Contact\n",
    "FROM providers\n",
    "WHERE City = 'Kellytown';\n",
    "\"\"\"\n",
    "df3 = pd.read_sql_query(query3, conn)\n",
    "df3"
   ]
  },
  {
   "cell_type": "markdown",
   "id": "24bc3613",
   "metadata": {},
   "source": [
    "4. Which receivers have claimed the most food?"
   ]
  },
  {
   "cell_type": "code",
   "execution_count": 24,
   "id": "df469d7a",
   "metadata": {},
   "outputs": [
    {
     "data": {
      "application/vnd.microsoft.datawrangler.viewer.v0+json": {
       "columns": [
        {
         "name": "index",
         "rawType": "int64",
         "type": "integer"
        },
        {
         "name": "Name",
         "rawType": "object",
         "type": "string"
        },
        {
         "name": "Total_Claims",
         "rawType": "int64",
         "type": "integer"
        }
       ],
       "ref": "12169ddd-f106-4f68-a8e6-c04d663ed2d1",
       "rows": [
        [
         "0",
         "William Frederick",
         "5"
        ],
        [
         "1",
         "Scott Hunter",
         "5"
        ],
        [
         "2",
         "Matthew Webb",
         "5"
        ],
        [
         "3",
         "Anthony Garcia",
         "5"
        ],
        [
         "4",
         "Kristine Martin",
         "4"
        ]
       ],
       "shape": {
        "columns": 2,
        "rows": 5
       }
      },
      "text/html": [
       "<div>\n",
       "<style scoped>\n",
       "    .dataframe tbody tr th:only-of-type {\n",
       "        vertical-align: middle;\n",
       "    }\n",
       "\n",
       "    .dataframe tbody tr th {\n",
       "        vertical-align: top;\n",
       "    }\n",
       "\n",
       "    .dataframe thead th {\n",
       "        text-align: right;\n",
       "    }\n",
       "</style>\n",
       "<table border=\"1\" class=\"dataframe\">\n",
       "  <thead>\n",
       "    <tr style=\"text-align: right;\">\n",
       "      <th></th>\n",
       "      <th>Name</th>\n",
       "      <th>Total_Claims</th>\n",
       "    </tr>\n",
       "  </thead>\n",
       "  <tbody>\n",
       "    <tr>\n",
       "      <th>0</th>\n",
       "      <td>William Frederick</td>\n",
       "      <td>5</td>\n",
       "    </tr>\n",
       "    <tr>\n",
       "      <th>1</th>\n",
       "      <td>Scott Hunter</td>\n",
       "      <td>5</td>\n",
       "    </tr>\n",
       "    <tr>\n",
       "      <th>2</th>\n",
       "      <td>Matthew Webb</td>\n",
       "      <td>5</td>\n",
       "    </tr>\n",
       "    <tr>\n",
       "      <th>3</th>\n",
       "      <td>Anthony Garcia</td>\n",
       "      <td>5</td>\n",
       "    </tr>\n",
       "    <tr>\n",
       "      <th>4</th>\n",
       "      <td>Kristine Martin</td>\n",
       "      <td>4</td>\n",
       "    </tr>\n",
       "  </tbody>\n",
       "</table>\n",
       "</div>"
      ],
      "text/plain": [
       "                Name  Total_Claims\n",
       "0  William Frederick             5\n",
       "1       Scott Hunter             5\n",
       "2       Matthew Webb             5\n",
       "3     Anthony Garcia             5\n",
       "4    Kristine Martin             4"
      ]
     },
     "execution_count": 24,
     "metadata": {},
     "output_type": "execute_result"
    }
   ],
   "source": [
    "query4 = \"\"\"\n",
    "SELECT r.Name,\n",
    "       COUNT(c.Claim_ID) AS Total_Claims\n",
    "FROM claims c\n",
    "JOIN receivers r ON c.Receiver_ID = r.Receiver_ID\n",
    "GROUP BY r.Name\n",
    "ORDER BY Total_Claims DESC\n",
    "LIMIT 5;\n",
    "\"\"\"\n",
    "df4 = pd.read_sql_query(query4, conn)\n",
    "df4"
   ]
  },
  {
   "cell_type": "markdown",
   "id": "fb6040bb",
   "metadata": {},
   "source": [
    "5. Total quantity of food available from all providers"
   ]
  },
  {
   "cell_type": "code",
   "execution_count": 26,
   "id": "5e9144a8",
   "metadata": {},
   "outputs": [
    {
     "data": {
      "application/vnd.microsoft.datawrangler.viewer.v0+json": {
       "columns": [
        {
         "name": "index",
         "rawType": "int64",
         "type": "integer"
        },
        {
         "name": "Total_Foods",
         "rawType": "int64",
         "type": "integer"
        }
       ],
       "ref": "5a175b92-bdd3-4816-9761-4f2b05a906f4",
       "rows": [
        [
         "0",
         "25794"
        ]
       ],
       "shape": {
        "columns": 1,
        "rows": 1
       }
      },
      "text/html": [
       "<div>\n",
       "<style scoped>\n",
       "    .dataframe tbody tr th:only-of-type {\n",
       "        vertical-align: middle;\n",
       "    }\n",
       "\n",
       "    .dataframe tbody tr th {\n",
       "        vertical-align: top;\n",
       "    }\n",
       "\n",
       "    .dataframe thead th {\n",
       "        text-align: right;\n",
       "    }\n",
       "</style>\n",
       "<table border=\"1\" class=\"dataframe\">\n",
       "  <thead>\n",
       "    <tr style=\"text-align: right;\">\n",
       "      <th></th>\n",
       "      <th>Total_Foods</th>\n",
       "    </tr>\n",
       "  </thead>\n",
       "  <tbody>\n",
       "    <tr>\n",
       "      <th>0</th>\n",
       "      <td>25794</td>\n",
       "    </tr>\n",
       "  </tbody>\n",
       "</table>\n",
       "</div>"
      ],
      "text/plain": [
       "   Total_Foods\n",
       "0        25794"
      ]
     },
     "execution_count": 26,
     "metadata": {},
     "output_type": "execute_result"
    }
   ],
   "source": [
    "query5 = \"\"\"\n",
    "SELECT SUM(Quantity) AS Total_Foods\n",
    "FROM food_listings;\n",
    "\"\"\"\n",
    "df5 = pd.read_sql_query(query5, conn)\n",
    "df5"
   ]
  },
  {
   "cell_type": "markdown",
   "id": "be9cd39b",
   "metadata": {},
   "source": [
    "6. Which city has the highest number of food listings?"
   ]
  },
  {
   "cell_type": "code",
   "execution_count": 27,
   "id": "a3004822",
   "metadata": {},
   "outputs": [
    {
     "data": {
      "application/vnd.microsoft.datawrangler.viewer.v0+json": {
       "columns": [
        {
         "name": "index",
         "rawType": "int64",
         "type": "integer"
        },
        {
         "name": "Location",
         "rawType": "object",
         "type": "string"
        },
        {
         "name": "Total_Listings",
         "rawType": "int64",
         "type": "integer"
        }
       ],
       "ref": "83dea076-cc50-4a40-9fc6-b421821d7064",
       "rows": [
        [
         "0",
         "South Kathryn",
         "6"
        ]
       ],
       "shape": {
        "columns": 2,
        "rows": 1
       }
      },
      "text/html": [
       "<div>\n",
       "<style scoped>\n",
       "    .dataframe tbody tr th:only-of-type {\n",
       "        vertical-align: middle;\n",
       "    }\n",
       "\n",
       "    .dataframe tbody tr th {\n",
       "        vertical-align: top;\n",
       "    }\n",
       "\n",
       "    .dataframe thead th {\n",
       "        text-align: right;\n",
       "    }\n",
       "</style>\n",
       "<table border=\"1\" class=\"dataframe\">\n",
       "  <thead>\n",
       "    <tr style=\"text-align: right;\">\n",
       "      <th></th>\n",
       "      <th>Location</th>\n",
       "      <th>Total_Listings</th>\n",
       "    </tr>\n",
       "  </thead>\n",
       "  <tbody>\n",
       "    <tr>\n",
       "      <th>0</th>\n",
       "      <td>South Kathryn</td>\n",
       "      <td>6</td>\n",
       "    </tr>\n",
       "  </tbody>\n",
       "</table>\n",
       "</div>"
      ],
      "text/plain": [
       "        Location  Total_Listings\n",
       "0  South Kathryn               6"
      ]
     },
     "execution_count": 27,
     "metadata": {},
     "output_type": "execute_result"
    }
   ],
   "source": [
    "query6 = \"\"\"\n",
    "SELECT Location,\n",
    "       COUNT(Food_ID) AS Total_Listings\n",
    "FROM food_listings\n",
    "GROUP BY Location\n",
    "ORDER BY Total_Listings DESC\n",
    "LIMIT 1;\n",
    "\"\"\"\n",
    "df6 = pd.read_sql_query(query6, conn)\n",
    "df6"
   ]
  },
  {
   "cell_type": "markdown",
   "id": "b0ea4512",
   "metadata": {},
   "source": [
    "7. Most commonly available food types"
   ]
  },
  {
   "cell_type": "code",
   "execution_count": 28,
   "id": "dffbe840",
   "metadata": {},
   "outputs": [
    {
     "data": {
      "application/vnd.microsoft.datawrangler.viewer.v0+json": {
       "columns": [
        {
         "name": "index",
         "rawType": "int64",
         "type": "integer"
        },
        {
         "name": "Food_Type",
         "rawType": "object",
         "type": "string"
        },
        {
         "name": "Count_Type",
         "rawType": "int64",
         "type": "integer"
        }
       ],
       "ref": "6ed2ec5f-f73c-4f4a-841a-b95fec17f34a",
       "rows": [
        [
         "0",
         "Vegetarian",
         "336"
        ],
        [
         "1",
         "Vegan",
         "334"
        ],
        [
         "2",
         "Non-Vegetarian",
         "330"
        ]
       ],
       "shape": {
        "columns": 2,
        "rows": 3
       }
      },
      "text/html": [
       "<div>\n",
       "<style scoped>\n",
       "    .dataframe tbody tr th:only-of-type {\n",
       "        vertical-align: middle;\n",
       "    }\n",
       "\n",
       "    .dataframe tbody tr th {\n",
       "        vertical-align: top;\n",
       "    }\n",
       "\n",
       "    .dataframe thead th {\n",
       "        text-align: right;\n",
       "    }\n",
       "</style>\n",
       "<table border=\"1\" class=\"dataframe\">\n",
       "  <thead>\n",
       "    <tr style=\"text-align: right;\">\n",
       "      <th></th>\n",
       "      <th>Food_Type</th>\n",
       "      <th>Count_Type</th>\n",
       "    </tr>\n",
       "  </thead>\n",
       "  <tbody>\n",
       "    <tr>\n",
       "      <th>0</th>\n",
       "      <td>Vegetarian</td>\n",
       "      <td>336</td>\n",
       "    </tr>\n",
       "    <tr>\n",
       "      <th>1</th>\n",
       "      <td>Vegan</td>\n",
       "      <td>334</td>\n",
       "    </tr>\n",
       "    <tr>\n",
       "      <th>2</th>\n",
       "      <td>Non-Vegetarian</td>\n",
       "      <td>330</td>\n",
       "    </tr>\n",
       "  </tbody>\n",
       "</table>\n",
       "</div>"
      ],
      "text/plain": [
       "        Food_Type  Count_Type\n",
       "0      Vegetarian         336\n",
       "1           Vegan         334\n",
       "2  Non-Vegetarian         330"
      ]
     },
     "execution_count": 28,
     "metadata": {},
     "output_type": "execute_result"
    }
   ],
   "source": [
    "query7 = \"\"\"\n",
    "SELECT Food_Type,\n",
    "       COUNT(*) AS Count_Type\n",
    "FROM food_listings\n",
    "GROUP BY Food_Type\n",
    "ORDER BY Count_Type DESC;\n",
    "\"\"\"\n",
    "df7 = pd.read_sql_query(query7, conn)\n",
    "df7"
   ]
  },
  {
   "cell_type": "markdown",
   "id": "ca88ff34",
   "metadata": {},
   "source": [
    "8. Number of food claims for each food item"
   ]
  },
  {
   "cell_type": "code",
   "execution_count": 29,
   "id": "9f21a83d",
   "metadata": {},
   "outputs": [
    {
     "data": {
      "application/vnd.microsoft.datawrangler.viewer.v0+json": {
       "columns": [
        {
         "name": "index",
         "rawType": "int64",
         "type": "integer"
        },
        {
         "name": "Food_Name",
         "rawType": "object",
         "type": "string"
        },
        {
         "name": "Total_Claims",
         "rawType": "int64",
         "type": "integer"
        }
       ],
       "ref": "8e53fe56-34f3-4014-b9fa-49ce1bf065fe",
       "rows": [
        [
         "0",
         "Rice",
         "122"
        ],
        [
         "1",
         "Soup",
         "114"
        ],
        [
         "2",
         "Dairy",
         "110"
        ],
        [
         "3",
         "Fish",
         "108"
        ],
        [
         "4",
         "Salad",
         "106"
        ],
        [
         "5",
         "Chicken",
         "102"
        ],
        [
         "6",
         "Bread",
         "94"
        ],
        [
         "7",
         "Pasta",
         "87"
        ],
        [
         "8",
         "Vegetables",
         "86"
        ],
        [
         "9",
         "Fruits",
         "71"
        ]
       ],
       "shape": {
        "columns": 2,
        "rows": 10
       }
      },
      "text/html": [
       "<div>\n",
       "<style scoped>\n",
       "    .dataframe tbody tr th:only-of-type {\n",
       "        vertical-align: middle;\n",
       "    }\n",
       "\n",
       "    .dataframe tbody tr th {\n",
       "        vertical-align: top;\n",
       "    }\n",
       "\n",
       "    .dataframe thead th {\n",
       "        text-align: right;\n",
       "    }\n",
       "</style>\n",
       "<table border=\"1\" class=\"dataframe\">\n",
       "  <thead>\n",
       "    <tr style=\"text-align: right;\">\n",
       "      <th></th>\n",
       "      <th>Food_Name</th>\n",
       "      <th>Total_Claims</th>\n",
       "    </tr>\n",
       "  </thead>\n",
       "  <tbody>\n",
       "    <tr>\n",
       "      <th>0</th>\n",
       "      <td>Rice</td>\n",
       "      <td>122</td>\n",
       "    </tr>\n",
       "    <tr>\n",
       "      <th>1</th>\n",
       "      <td>Soup</td>\n",
       "      <td>114</td>\n",
       "    </tr>\n",
       "    <tr>\n",
       "      <th>2</th>\n",
       "      <td>Dairy</td>\n",
       "      <td>110</td>\n",
       "    </tr>\n",
       "    <tr>\n",
       "      <th>3</th>\n",
       "      <td>Fish</td>\n",
       "      <td>108</td>\n",
       "    </tr>\n",
       "    <tr>\n",
       "      <th>4</th>\n",
       "      <td>Salad</td>\n",
       "      <td>106</td>\n",
       "    </tr>\n",
       "    <tr>\n",
       "      <th>5</th>\n",
       "      <td>Chicken</td>\n",
       "      <td>102</td>\n",
       "    </tr>\n",
       "    <tr>\n",
       "      <th>6</th>\n",
       "      <td>Bread</td>\n",
       "      <td>94</td>\n",
       "    </tr>\n",
       "    <tr>\n",
       "      <th>7</th>\n",
       "      <td>Pasta</td>\n",
       "      <td>87</td>\n",
       "    </tr>\n",
       "    <tr>\n",
       "      <th>8</th>\n",
       "      <td>Vegetables</td>\n",
       "      <td>86</td>\n",
       "    </tr>\n",
       "    <tr>\n",
       "      <th>9</th>\n",
       "      <td>Fruits</td>\n",
       "      <td>71</td>\n",
       "    </tr>\n",
       "  </tbody>\n",
       "</table>\n",
       "</div>"
      ],
      "text/plain": [
       "    Food_Name  Total_Claims\n",
       "0        Rice           122\n",
       "1        Soup           114\n",
       "2       Dairy           110\n",
       "3        Fish           108\n",
       "4       Salad           106\n",
       "5     Chicken           102\n",
       "6       Bread            94\n",
       "7       Pasta            87\n",
       "8  Vegetables            86\n",
       "9      Fruits            71"
      ]
     },
     "execution_count": 29,
     "metadata": {},
     "output_type": "execute_result"
    }
   ],
   "source": [
    "query8 = \"\"\"\n",
    "SELECT f.Food_Name,\n",
    "       COUNT(c.Claim_ID) AS Total_Claims\n",
    "FROM claims c\n",
    "JOIN food_listings f ON c.Food_ID = f.Food_ID\n",
    "GROUP BY f.Food_Name\n",
    "ORDER BY Total_Claims DESC;\n",
    "\"\"\"\n",
    "df8 = pd.read_sql_query(query8, conn)\n",
    "df8"
   ]
  },
  {
   "cell_type": "markdown",
   "id": "97a92c8c",
   "metadata": {},
   "source": [
    "9. Provider with the highest number of successful claims"
   ]
  },
  {
   "cell_type": "code",
   "execution_count": 32,
   "id": "c19c221c",
   "metadata": {},
   "outputs": [
    {
     "data": {
      "application/vnd.microsoft.datawrangler.viewer.v0+json": {
       "columns": [
        {
         "name": "index",
         "rawType": "int64",
         "type": "integer"
        },
        {
         "name": "Name",
         "rawType": "object",
         "type": "string"
        },
        {
         "name": "Successful_Claims",
         "rawType": "int64",
         "type": "integer"
        }
       ],
       "ref": "76aa0765-700f-4180-b1c9-c0fccd330c7b",
       "rows": [
        [
         "0",
         "Barry Group",
         "5"
        ]
       ],
       "shape": {
        "columns": 2,
        "rows": 1
       }
      },
      "text/html": [
       "<div>\n",
       "<style scoped>\n",
       "    .dataframe tbody tr th:only-of-type {\n",
       "        vertical-align: middle;\n",
       "    }\n",
       "\n",
       "    .dataframe tbody tr th {\n",
       "        vertical-align: top;\n",
       "    }\n",
       "\n",
       "    .dataframe thead th {\n",
       "        text-align: right;\n",
       "    }\n",
       "</style>\n",
       "<table border=\"1\" class=\"dataframe\">\n",
       "  <thead>\n",
       "    <tr style=\"text-align: right;\">\n",
       "      <th></th>\n",
       "      <th>Name</th>\n",
       "      <th>Successful_Claims</th>\n",
       "    </tr>\n",
       "  </thead>\n",
       "  <tbody>\n",
       "    <tr>\n",
       "      <th>0</th>\n",
       "      <td>Barry Group</td>\n",
       "      <td>5</td>\n",
       "    </tr>\n",
       "  </tbody>\n",
       "</table>\n",
       "</div>"
      ],
      "text/plain": [
       "          Name  Successful_Claims\n",
       "0  Barry Group                  5"
      ]
     },
     "execution_count": 32,
     "metadata": {},
     "output_type": "execute_result"
    }
   ],
   "source": [
    "query9 = \"\"\"\n",
    "SELECT p.Name,\n",
    "       COUNT(c.Claim_ID) AS Successful_Claims\n",
    "FROM claims c\n",
    "JOIN food_listings f ON c.Food_ID = f.Food_ID\n",
    "JOIN providers p ON f.Provider_ID = p.Provider_ID\n",
    "WHERE c.Status = 'Completed'\n",
    "GROUP BY p.Name\n",
    "ORDER BY Successful_Claims DESC\n",
    "LIMIT 1;\n",
    "\"\"\"\n",
    "df9 = pd.read_sql_query(query9, conn)\n",
    "df9"
   ]
  },
  {
   "cell_type": "markdown",
   "id": "faa306bb",
   "metadata": {},
   "source": [
    "10. Percentage of claims by status"
   ]
  },
  {
   "cell_type": "code",
   "execution_count": 35,
   "id": "5dcbfe95",
   "metadata": {},
   "outputs": [
    {
     "data": {
      "application/vnd.microsoft.datawrangler.viewer.v0+json": {
       "columns": [
        {
         "name": "index",
         "rawType": "int64",
         "type": "integer"
        },
        {
         "name": "Status",
         "rawType": "object",
         "type": "string"
        },
        {
         "name": "Percentage",
         "rawType": "float64",
         "type": "float"
        }
       ],
       "ref": "4b181793-2cba-4b84-b54a-039c764f93b7",
       "rows": [
        [
         "0",
         "Cancelled",
         "33.6"
        ],
        [
         "1",
         "Completed",
         "33.9"
        ],
        [
         "2",
         "Pending",
         "32.5"
        ]
       ],
       "shape": {
        "columns": 2,
        "rows": 3
       }
      },
      "text/html": [
       "<div>\n",
       "<style scoped>\n",
       "    .dataframe tbody tr th:only-of-type {\n",
       "        vertical-align: middle;\n",
       "    }\n",
       "\n",
       "    .dataframe tbody tr th {\n",
       "        vertical-align: top;\n",
       "    }\n",
       "\n",
       "    .dataframe thead th {\n",
       "        text-align: right;\n",
       "    }\n",
       "</style>\n",
       "<table border=\"1\" class=\"dataframe\">\n",
       "  <thead>\n",
       "    <tr style=\"text-align: right;\">\n",
       "      <th></th>\n",
       "      <th>Status</th>\n",
       "      <th>Percentage</th>\n",
       "    </tr>\n",
       "  </thead>\n",
       "  <tbody>\n",
       "    <tr>\n",
       "      <th>0</th>\n",
       "      <td>Cancelled</td>\n",
       "      <td>33.6</td>\n",
       "    </tr>\n",
       "    <tr>\n",
       "      <th>1</th>\n",
       "      <td>Completed</td>\n",
       "      <td>33.9</td>\n",
       "    </tr>\n",
       "    <tr>\n",
       "      <th>2</th>\n",
       "      <td>Pending</td>\n",
       "      <td>32.5</td>\n",
       "    </tr>\n",
       "  </tbody>\n",
       "</table>\n",
       "</div>"
      ],
      "text/plain": [
       "      Status  Percentage\n",
       "0  Cancelled        33.6\n",
       "1  Completed        33.9\n",
       "2    Pending        32.5"
      ]
     },
     "execution_count": 35,
     "metadata": {},
     "output_type": "execute_result"
    }
   ],
   "source": [
    "query10 = \"\"\"\n",
    "SELECT Status,\n",
    "       ROUND(COUNT(*) * 100.0 / (SELECT COUNT(*) FROM claims), 2) AS Percentage\n",
    "FROM claims\n",
    "GROUP BY Status;\n",
    "\"\"\"\n",
    "df10 = pd.read_sql_query(query10, conn)\n",
    "df10"
   ]
  },
  {
   "cell_type": "markdown",
   "id": "289e2924",
   "metadata": {},
   "source": [
    "11. Average quantity of food claimed per receiver"
   ]
  },
  {
   "cell_type": "code",
   "execution_count": 36,
   "id": "f529fd30",
   "metadata": {},
   "outputs": [
    {
     "data": {
      "application/vnd.microsoft.datawrangler.viewer.v0+json": {
       "columns": [
        {
         "name": "index",
         "rawType": "int64",
         "type": "integer"
        },
        {
         "name": "Name",
         "rawType": "object",
         "type": "string"
        },
        {
         "name": "Avg_Quantity_Claimed",
         "rawType": "float64",
         "type": "float"
        }
       ],
       "ref": "6ae051f5-9ddb-4091-9de5-e11a1730ba8a",
       "rows": [
        [
         "0",
         "Aaron Keller",
         "39.0"
        ],
        [
         "1",
         "Aaron Rios",
         "21.0"
        ],
        [
         "2",
         "Aaron Scott",
         "45.0"
        ],
        [
         "3",
         "Abigail Crawford",
         "25.67"
        ],
        [
         "4",
         "Adam Browning",
         "5.0"
        ],
        [
         "5",
         "Adam Moore",
         "27.33"
        ],
        [
         "6",
         "Aimee Stone",
         "27.5"
        ],
        [
         "7",
         "Alan Campbell",
         "6.0"
        ],
        [
         "8",
         "Alex Leon",
         "14.0"
        ],
        [
         "9",
         "Alex Rogers",
         "23.0"
        ],
        [
         "10",
         "Alex White",
         "18.0"
        ],
        [
         "11",
         "Alexander Dean",
         "30.0"
        ],
        [
         "12",
         "Alexander Mullins",
         "49.0"
        ],
        [
         "13",
         "Alexander Walsh",
         "27.67"
        ],
        [
         "14",
         "Alexandra Owens",
         "20.25"
        ],
        [
         "15",
         "Alexandra Rogers",
         "30.0"
        ],
        [
         "16",
         "Alexis Hayes",
         "12.0"
        ],
        [
         "17",
         "Alexis Rodriguez",
         "8.0"
        ],
        [
         "18",
         "Alicia Porter",
         "18.67"
        ],
        [
         "19",
         "Alicia Thomas",
         "26.67"
        ],
        [
         "20",
         "Allison Bray",
         "22.67"
        ],
        [
         "21",
         "Allison Martinez",
         "10.0"
        ],
        [
         "22",
         "Allison Pennington",
         "31.0"
        ],
        [
         "23",
         "Alvin Day Jr.",
         "21.0"
        ],
        [
         "24",
         "Alvin West",
         "24.75"
        ],
        [
         "25",
         "Amanda Brown",
         "8.0"
        ],
        [
         "26",
         "Amanda Cain",
         "25.5"
        ],
        [
         "27",
         "Amanda Kline",
         "1.0"
        ],
        [
         "28",
         "Amber Arellano",
         "31.0"
        ],
        [
         "29",
         "Amber Cruz",
         "18.0"
        ],
        [
         "30",
         "Amber Hobbs",
         "26.0"
        ],
        [
         "31",
         "Amy Barker",
         "41.0"
        ],
        [
         "32",
         "Amy Brown",
         "34.0"
        ],
        [
         "33",
         "Amy Perez",
         "32.5"
        ],
        [
         "34",
         "Amy Thomas",
         "40.0"
        ],
        [
         "35",
         "Andrea Hansen",
         "25.0"
        ],
        [
         "36",
         "Andrea Meyer",
         "23.5"
        ],
        [
         "37",
         "Andrea Morris",
         "33.0"
        ],
        [
         "38",
         "Andrew Gray",
         "42.0"
        ],
        [
         "39",
         "Andrew Lawson",
         "35.0"
        ],
        [
         "40",
         "Angel Adams",
         "49.0"
        ],
        [
         "41",
         "Angela Cortez",
         "37.0"
        ],
        [
         "42",
         "Angela Hall",
         "40.5"
        ],
        [
         "43",
         "Angela Knight",
         "21.0"
        ],
        [
         "44",
         "Angela Wyatt",
         "49.0"
        ],
        [
         "45",
         "Angelica Simmons",
         "26.0"
        ],
        [
         "46",
         "Anita Kerr",
         "26.0"
        ],
        [
         "47",
         "Ann Odonnell",
         "30.5"
        ],
        [
         "48",
         "Anna Buckley",
         "35.33"
        ],
        [
         "49",
         "Anne Stone",
         "19.0"
        ]
       ],
       "shape": {
        "columns": 2,
        "rows": 620
       }
      },
      "text/html": [
       "<div>\n",
       "<style scoped>\n",
       "    .dataframe tbody tr th:only-of-type {\n",
       "        vertical-align: middle;\n",
       "    }\n",
       "\n",
       "    .dataframe tbody tr th {\n",
       "        vertical-align: top;\n",
       "    }\n",
       "\n",
       "    .dataframe thead th {\n",
       "        text-align: right;\n",
       "    }\n",
       "</style>\n",
       "<table border=\"1\" class=\"dataframe\">\n",
       "  <thead>\n",
       "    <tr style=\"text-align: right;\">\n",
       "      <th></th>\n",
       "      <th>Name</th>\n",
       "      <th>Avg_Quantity_Claimed</th>\n",
       "    </tr>\n",
       "  </thead>\n",
       "  <tbody>\n",
       "    <tr>\n",
       "      <th>0</th>\n",
       "      <td>Aaron Keller</td>\n",
       "      <td>39.00</td>\n",
       "    </tr>\n",
       "    <tr>\n",
       "      <th>1</th>\n",
       "      <td>Aaron Rios</td>\n",
       "      <td>21.00</td>\n",
       "    </tr>\n",
       "    <tr>\n",
       "      <th>2</th>\n",
       "      <td>Aaron Scott</td>\n",
       "      <td>45.00</td>\n",
       "    </tr>\n",
       "    <tr>\n",
       "      <th>3</th>\n",
       "      <td>Abigail Crawford</td>\n",
       "      <td>25.67</td>\n",
       "    </tr>\n",
       "    <tr>\n",
       "      <th>4</th>\n",
       "      <td>Adam Browning</td>\n",
       "      <td>5.00</td>\n",
       "    </tr>\n",
       "    <tr>\n",
       "      <th>...</th>\n",
       "      <td>...</td>\n",
       "      <td>...</td>\n",
       "    </tr>\n",
       "    <tr>\n",
       "      <th>615</th>\n",
       "      <td>William Barnes</td>\n",
       "      <td>47.00</td>\n",
       "    </tr>\n",
       "    <tr>\n",
       "      <th>616</th>\n",
       "      <td>William Fox</td>\n",
       "      <td>12.00</td>\n",
       "    </tr>\n",
       "    <tr>\n",
       "      <th>617</th>\n",
       "      <td>William Frederick</td>\n",
       "      <td>21.40</td>\n",
       "    </tr>\n",
       "    <tr>\n",
       "      <th>618</th>\n",
       "      <td>Yvette Huffman</td>\n",
       "      <td>45.00</td>\n",
       "    </tr>\n",
       "    <tr>\n",
       "      <th>619</th>\n",
       "      <td>Zachary Lewis</td>\n",
       "      <td>22.00</td>\n",
       "    </tr>\n",
       "  </tbody>\n",
       "</table>\n",
       "<p>620 rows × 2 columns</p>\n",
       "</div>"
      ],
      "text/plain": [
       "                  Name  Avg_Quantity_Claimed\n",
       "0         Aaron Keller                 39.00\n",
       "1           Aaron Rios                 21.00\n",
       "2          Aaron Scott                 45.00\n",
       "3     Abigail Crawford                 25.67\n",
       "4        Adam Browning                  5.00\n",
       "..                 ...                   ...\n",
       "615     William Barnes                 47.00\n",
       "616        William Fox                 12.00\n",
       "617  William Frederick                 21.40\n",
       "618     Yvette Huffman                 45.00\n",
       "619      Zachary Lewis                 22.00\n",
       "\n",
       "[620 rows x 2 columns]"
      ]
     },
     "execution_count": 36,
     "metadata": {},
     "output_type": "execute_result"
    }
   ],
   "source": [
    "query11 = \"\"\"\n",
    "SELECT r.Name,\n",
    "       ROUND(AVG(f.Quantity), 2) AS Avg_Quantity_Claimed\n",
    "FROM claims c\n",
    "JOIN food_listings f ON c.Food_ID = f.Food_ID\n",
    "JOIN receivers r ON c.Receiver_ID = r.Receiver_ID\n",
    "GROUP BY r.Name;\n",
    "\"\"\"\n",
    "df11 = pd.read_sql_query(query11, conn)\n",
    "df11"
   ]
  },
  {
   "cell_type": "markdown",
   "id": "c392b119",
   "metadata": {},
   "source": [
    "12. Most claimed meal type"
   ]
  },
  {
   "cell_type": "code",
   "execution_count": 37,
   "id": "cd365093",
   "metadata": {},
   "outputs": [
    {
     "data": {
      "application/vnd.microsoft.datawrangler.viewer.v0+json": {
       "columns": [
        {
         "name": "index",
         "rawType": "int64",
         "type": "integer"
        },
        {
         "name": "Meal_Type",
         "rawType": "object",
         "type": "string"
        },
        {
         "name": "Claim_Count",
         "rawType": "int64",
         "type": "integer"
        }
       ],
       "ref": "8f5f03a0-06e1-46ae-a2d6-05ad14e9fc64",
       "rows": [
        [
         "0",
         "Breakfast",
         "278"
        ]
       ],
       "shape": {
        "columns": 2,
        "rows": 1
       }
      },
      "text/html": [
       "<div>\n",
       "<style scoped>\n",
       "    .dataframe tbody tr th:only-of-type {\n",
       "        vertical-align: middle;\n",
       "    }\n",
       "\n",
       "    .dataframe tbody tr th {\n",
       "        vertical-align: top;\n",
       "    }\n",
       "\n",
       "    .dataframe thead th {\n",
       "        text-align: right;\n",
       "    }\n",
       "</style>\n",
       "<table border=\"1\" class=\"dataframe\">\n",
       "  <thead>\n",
       "    <tr style=\"text-align: right;\">\n",
       "      <th></th>\n",
       "      <th>Meal_Type</th>\n",
       "      <th>Claim_Count</th>\n",
       "    </tr>\n",
       "  </thead>\n",
       "  <tbody>\n",
       "    <tr>\n",
       "      <th>0</th>\n",
       "      <td>Breakfast</td>\n",
       "      <td>278</td>\n",
       "    </tr>\n",
       "  </tbody>\n",
       "</table>\n",
       "</div>"
      ],
      "text/plain": [
       "   Meal_Type  Claim_Count\n",
       "0  Breakfast          278"
      ]
     },
     "execution_count": 37,
     "metadata": {},
     "output_type": "execute_result"
    }
   ],
   "source": [
    "query12 = \"\"\"\n",
    "SELECT Meal_Type,\n",
    "       COUNT(*) AS Claim_Count\n",
    "FROM claims c\n",
    "JOIN food_listings f ON c.Food_ID = f.Food_ID\n",
    "GROUP BY Meal_Type\n",
    "ORDER BY Claim_Count DESC\n",
    "LIMIT 1;\n",
    "\"\"\"\n",
    "df12 = pd.read_sql_query(query12, conn)\n",
    "df12"
   ]
  },
  {
   "cell_type": "markdown",
   "id": "b5e902de",
   "metadata": {},
   "source": [
    "13. Total quantity of food donated by each provider"
   ]
  },
  {
   "cell_type": "code",
   "execution_count": 38,
   "id": "c5807d5c",
   "metadata": {},
   "outputs": [
    {
     "data": {
      "application/vnd.microsoft.datawrangler.viewer.v0+json": {
       "columns": [
        {
         "name": "index",
         "rawType": "int64",
         "type": "integer"
        },
        {
         "name": "Name",
         "rawType": "object",
         "type": "string"
        },
        {
         "name": "Total_Donated",
         "rawType": "int64",
         "type": "integer"
        }
       ],
       "ref": "bcd7cc17-6e26-4be9-bcff-d9a670a102b7",
       "rows": [
        [
         "0",
         "Miller Inc",
         "217"
        ],
        [
         "1",
         "Barry Group",
         "179"
        ],
        [
         "2",
         "Evans, Wright and Mitchell",
         "158"
        ],
        [
         "3",
         "Smith Group",
         "150"
        ],
        [
         "4",
         "Campbell LLC",
         "145"
        ],
        [
         "5",
         "Nelson LLC",
         "142"
        ],
        [
         "6",
         "Ruiz-Oneal",
         "140"
        ],
        [
         "7",
         "Blankenship-Lewis",
         "124"
        ],
        [
         "8",
         "Kelly-Ware",
         "123"
        ],
        [
         "9",
         "Bradford-Martinez",
         "121"
        ],
        [
         "10",
         "Shepherd and Sons",
         "116"
        ],
        [
         "11",
         "Hampton-Lee",
         "116"
        ],
        [
         "12",
         "Jones, Ortega and Rubio",
         "115"
        ],
        [
         "13",
         "Ortiz-Lee",
         "114"
        ],
        [
         "14",
         "Johnson-Ray",
         "113"
        ],
        [
         "15",
         "Barker LLC",
         "110"
        ],
        [
         "16",
         "Moore Group",
         "106"
        ],
        [
         "17",
         "Hill, Davis and Stewart",
         "106"
        ],
        [
         "18",
         "Steele Ltd",
         "104"
        ],
        [
         "19",
         "Butler-Richardson",
         "104"
        ],
        [
         "20",
         "Lopez, Roach and Roach",
         "102"
        ],
        [
         "21",
         "Hunter, Ballard and Caldwell",
         "101"
        ],
        [
         "22",
         "Carter-Jones",
         "101"
        ],
        [
         "23",
         "Hogan-Johnston",
         "99"
        ],
        [
         "24",
         "Cox LLC",
         "99"
        ],
        [
         "25",
         "Baker-Mcdonald",
         "99"
        ],
        [
         "26",
         "Wong-Reese",
         "98"
        ],
        [
         "27",
         "Jackson Ltd",
         "98"
        ],
        [
         "28",
         "Aguilar-Frederick",
         "98"
        ],
        [
         "29",
         "Schmidt-Alexander",
         "97"
        ],
        [
         "30",
         "Phillips, Wolfe and Martin",
         "97"
        ],
        [
         "31",
         "Garcia-Hunter",
         "97"
        ],
        [
         "32",
         "Rogers, Harmon and Gordon",
         "96"
        ],
        [
         "33",
         "Jones, Rojas and Brown",
         "96"
        ],
        [
         "34",
         "Flores-Wade",
         "96"
        ],
        [
         "35",
         "Clark, Prince and Williams",
         "96"
        ],
        [
         "36",
         "Brown-Stephens",
         "96"
        ],
        [
         "37",
         "Carey PLC",
         "95"
        ],
        [
         "38",
         "Wilson Group",
         "94"
        ],
        [
         "39",
         "Lambert Ltd",
         "94"
        ],
        [
         "40",
         "Miller Ltd",
         "93"
        ],
        [
         "41",
         "Hudson, Spence and Perez",
         "93"
        ],
        [
         "42",
         "Doyle LLC",
         "93"
        ],
        [
         "43",
         "Schneider-Suarez",
         "92"
        ],
        [
         "44",
         "Miller, Johnson and Fernandez",
         "92"
        ],
        [
         "45",
         "Coleman-Farley",
         "92"
        ],
        [
         "46",
         "White, Crawford and Pearson",
         "91"
        ],
        [
         "47",
         "Kelly, Cummings and Ward",
         "90"
        ],
        [
         "48",
         "Daniels-Kim",
         "90"
        ],
        [
         "49",
         "Cooper LLC",
         "90"
        ]
       ],
       "shape": {
        "columns": 2,
        "rows": 628
       }
      },
      "text/html": [
       "<div>\n",
       "<style scoped>\n",
       "    .dataframe tbody tr th:only-of-type {\n",
       "        vertical-align: middle;\n",
       "    }\n",
       "\n",
       "    .dataframe tbody tr th {\n",
       "        vertical-align: top;\n",
       "    }\n",
       "\n",
       "    .dataframe thead th {\n",
       "        text-align: right;\n",
       "    }\n",
       "</style>\n",
       "<table border=\"1\" class=\"dataframe\">\n",
       "  <thead>\n",
       "    <tr style=\"text-align: right;\">\n",
       "      <th></th>\n",
       "      <th>Name</th>\n",
       "      <th>Total_Donated</th>\n",
       "    </tr>\n",
       "  </thead>\n",
       "  <tbody>\n",
       "    <tr>\n",
       "      <th>0</th>\n",
       "      <td>Miller Inc</td>\n",
       "      <td>217</td>\n",
       "    </tr>\n",
       "    <tr>\n",
       "      <th>1</th>\n",
       "      <td>Barry Group</td>\n",
       "      <td>179</td>\n",
       "    </tr>\n",
       "    <tr>\n",
       "      <th>2</th>\n",
       "      <td>Evans, Wright and Mitchell</td>\n",
       "      <td>158</td>\n",
       "    </tr>\n",
       "    <tr>\n",
       "      <th>3</th>\n",
       "      <td>Smith Group</td>\n",
       "      <td>150</td>\n",
       "    </tr>\n",
       "    <tr>\n",
       "      <th>4</th>\n",
       "      <td>Campbell LLC</td>\n",
       "      <td>145</td>\n",
       "    </tr>\n",
       "    <tr>\n",
       "      <th>...</th>\n",
       "      <td>...</td>\n",
       "      <td>...</td>\n",
       "    </tr>\n",
       "    <tr>\n",
       "      <th>623</th>\n",
       "      <td>Reyes and Sons</td>\n",
       "      <td>1</td>\n",
       "    </tr>\n",
       "    <tr>\n",
       "      <th>624</th>\n",
       "      <td>Norris-Townsend</td>\n",
       "      <td>1</td>\n",
       "    </tr>\n",
       "    <tr>\n",
       "      <th>625</th>\n",
       "      <td>Mcgee PLC</td>\n",
       "      <td>1</td>\n",
       "    </tr>\n",
       "    <tr>\n",
       "      <th>626</th>\n",
       "      <td>Martinez, Armstrong and Carroll</td>\n",
       "      <td>1</td>\n",
       "    </tr>\n",
       "    <tr>\n",
       "      <th>627</th>\n",
       "      <td>Gonzales-Moore</td>\n",
       "      <td>1</td>\n",
       "    </tr>\n",
       "  </tbody>\n",
       "</table>\n",
       "<p>628 rows × 2 columns</p>\n",
       "</div>"
      ],
      "text/plain": [
       "                                Name  Total_Donated\n",
       "0                         Miller Inc            217\n",
       "1                        Barry Group            179\n",
       "2         Evans, Wright and Mitchell            158\n",
       "3                        Smith Group            150\n",
       "4                       Campbell LLC            145\n",
       "..                               ...            ...\n",
       "623                   Reyes and Sons              1\n",
       "624                  Norris-Townsend              1\n",
       "625                        Mcgee PLC              1\n",
       "626  Martinez, Armstrong and Carroll              1\n",
       "627                   Gonzales-Moore              1\n",
       "\n",
       "[628 rows x 2 columns]"
      ]
     },
     "execution_count": 38,
     "metadata": {},
     "output_type": "execute_result"
    }
   ],
   "source": [
    "query13 = \"\"\"\n",
    "SELECT p.Name,\n",
    "       SUM(f.Quantity) AS Total_Donated\n",
    "FROM food_listings f\n",
    "JOIN providers p ON f.Provider_ID = p.Provider_ID\n",
    "GROUP BY p.Name\n",
    "ORDER BY Total_Donated DESC;\n",
    "\"\"\"\n",
    "df13 = pd.read_sql_query(query13, conn)\n",
    "df13"
   ]
  },
  {
   "cell_type": "markdown",
   "id": "70997d24",
   "metadata": {},
   "source": [
    "14. Top 5 cities with most completed claims"
   ]
  },
  {
   "cell_type": "code",
   "execution_count": 39,
   "id": "db974298",
   "metadata": {},
   "outputs": [
    {
     "data": {
      "application/vnd.microsoft.datawrangler.viewer.v0+json": {
       "columns": [
        {
         "name": "index",
         "rawType": "int64",
         "type": "integer"
        },
        {
         "name": "Location",
         "rawType": "object",
         "type": "string"
        },
        {
         "name": "Completed_Claims",
         "rawType": "int64",
         "type": "integer"
        }
       ],
       "ref": "c573c471-f464-4ae4-843a-8e91a04ca0ef",
       "rows": [
        [
         "0",
         "South Kathryn",
         "5"
        ],
        [
         "1",
         "Zimmermanville",
         "4"
        ],
        [
         "2",
         "New Carol",
         "4"
        ],
        [
         "3",
         "East Heatherport",
         "4"
        ],
        [
         "4",
         "Devinmouth",
         "4"
        ]
       ],
       "shape": {
        "columns": 2,
        "rows": 5
       }
      },
      "text/html": [
       "<div>\n",
       "<style scoped>\n",
       "    .dataframe tbody tr th:only-of-type {\n",
       "        vertical-align: middle;\n",
       "    }\n",
       "\n",
       "    .dataframe tbody tr th {\n",
       "        vertical-align: top;\n",
       "    }\n",
       "\n",
       "    .dataframe thead th {\n",
       "        text-align: right;\n",
       "    }\n",
       "</style>\n",
       "<table border=\"1\" class=\"dataframe\">\n",
       "  <thead>\n",
       "    <tr style=\"text-align: right;\">\n",
       "      <th></th>\n",
       "      <th>Location</th>\n",
       "      <th>Completed_Claims</th>\n",
       "    </tr>\n",
       "  </thead>\n",
       "  <tbody>\n",
       "    <tr>\n",
       "      <th>0</th>\n",
       "      <td>South Kathryn</td>\n",
       "      <td>5</td>\n",
       "    </tr>\n",
       "    <tr>\n",
       "      <th>1</th>\n",
       "      <td>Zimmermanville</td>\n",
       "      <td>4</td>\n",
       "    </tr>\n",
       "    <tr>\n",
       "      <th>2</th>\n",
       "      <td>New Carol</td>\n",
       "      <td>4</td>\n",
       "    </tr>\n",
       "    <tr>\n",
       "      <th>3</th>\n",
       "      <td>East Heatherport</td>\n",
       "      <td>4</td>\n",
       "    </tr>\n",
       "    <tr>\n",
       "      <th>4</th>\n",
       "      <td>Devinmouth</td>\n",
       "      <td>4</td>\n",
       "    </tr>\n",
       "  </tbody>\n",
       "</table>\n",
       "</div>"
      ],
      "text/plain": [
       "           Location  Completed_Claims\n",
       "0     South Kathryn                 5\n",
       "1    Zimmermanville                 4\n",
       "2         New Carol                 4\n",
       "3  East Heatherport                 4\n",
       "4        Devinmouth                 4"
      ]
     },
     "execution_count": 39,
     "metadata": {},
     "output_type": "execute_result"
    }
   ],
   "source": [
    "query14 = \"\"\"\n",
    "SELECT f.Location,\n",
    "       COUNT(c.Claim_ID) AS Completed_Claims\n",
    "FROM claims c\n",
    "JOIN food_listings f ON c.Food_ID = f.Food_ID\n",
    "WHERE c.Status = 'Completed'\n",
    "GROUP BY f.Location\n",
    "ORDER BY Completed_Claims DESC\n",
    "LIMIT 5;\n",
    "\"\"\"\n",
    "df14 = pd.read_sql_query(query14, conn)\n",
    "df14"
   ]
  },
  {
   "cell_type": "markdown",
   "id": "73e606c9",
   "metadata": {},
   "source": [
    "15. Food items nearing expiry (next 3 days)"
   ]
  },
  {
   "cell_type": "code",
   "execution_count": 40,
   "id": "919bbc0f",
   "metadata": {},
   "outputs": [
    {
     "data": {
      "application/vnd.microsoft.datawrangler.viewer.v0+json": {
       "columns": [
        {
         "name": "index",
         "rawType": "int64",
         "type": "integer"
        },
        {
         "name": "Food_Name",
         "rawType": "object",
         "type": "string"
        },
        {
         "name": "Expiry_Date",
         "rawType": "object",
         "type": "string"
        },
        {
         "name": "Quantity",
         "rawType": "object",
         "type": "string"
        }
       ],
       "ref": "0697419b-f90c-4f4b-a304-17faff8983d5",
       "rows": [],
       "shape": {
        "columns": 3,
        "rows": 0
       }
      },
      "text/html": [
       "<div>\n",
       "<style scoped>\n",
       "    .dataframe tbody tr th:only-of-type {\n",
       "        vertical-align: middle;\n",
       "    }\n",
       "\n",
       "    .dataframe tbody tr th {\n",
       "        vertical-align: top;\n",
       "    }\n",
       "\n",
       "    .dataframe thead th {\n",
       "        text-align: right;\n",
       "    }\n",
       "</style>\n",
       "<table border=\"1\" class=\"dataframe\">\n",
       "  <thead>\n",
       "    <tr style=\"text-align: right;\">\n",
       "      <th></th>\n",
       "      <th>Food_Name</th>\n",
       "      <th>Expiry_Date</th>\n",
       "      <th>Quantity</th>\n",
       "    </tr>\n",
       "  </thead>\n",
       "  <tbody>\n",
       "  </tbody>\n",
       "</table>\n",
       "</div>"
      ],
      "text/plain": [
       "Empty DataFrame\n",
       "Columns: [Food_Name, Expiry_Date, Quantity]\n",
       "Index: []"
      ]
     },
     "execution_count": 40,
     "metadata": {},
     "output_type": "execute_result"
    }
   ],
   "source": [
    "query15 = \"\"\"\n",
    "SELECT Food_Name, Expiry_Date, Quantity\n",
    "FROM food_listings\n",
    "WHERE date(Expiry_Date) <= date('now', '+3 days');\n",
    "\"\"\"\n",
    "df15 = pd.read_sql_query(query15, conn)\n",
    "df15"
   ]
  },
  {
   "cell_type": "markdown",
   "id": "2c6862f4",
   "metadata": {},
   "source": [
    "Close:"
   ]
  },
  {
   "cell_type": "code",
   "execution_count": null,
   "id": "41bd82c2",
   "metadata": {},
   "outputs": [],
   "source": [
    "conn.close()"
   ]
  }
 ],
 "metadata": {
  "kernelspec": {
   "display_name": "Python 3",
   "language": "python",
   "name": "python3"
  },
  "language_info": {
   "codemirror_mode": {
    "name": "ipython",
    "version": 3
   },
   "file_extension": ".py",
   "mimetype": "text/x-python",
   "name": "python",
   "nbconvert_exporter": "python",
   "pygments_lexer": "ipython3",
   "version": "3.10.11"
  }
 },
 "nbformat": 4,
 "nbformat_minor": 5
}
